{
 "cells": [
  {
   "cell_type": "code",
   "execution_count": 4,
   "metadata": {},
   "outputs": [],
   "source": [
    "import matplotlib.pyplot as plt\n",
    "import numpy as np\n",
    "import pandas as pd\n",
    "import seaborn as sns\n",
    "import tensorflow as tf"
   ]
  },
  {
   "cell_type": "code",
   "execution_count": 5,
   "metadata": {},
   "outputs": [],
   "source": [
    "sns.set_style(\"darkgrid\")"
   ]
  },
  {
   "cell_type": "code",
   "execution_count": 6,
   "metadata": {},
   "outputs": [
    {
     "data": {
      "text/html": [
       "<div>\n",
       "<style scoped>\n",
       "    .dataframe tbody tr th:only-of-type {\n",
       "        vertical-align: middle;\n",
       "    }\n",
       "\n",
       "    .dataframe tbody tr th {\n",
       "        vertical-align: top;\n",
       "    }\n",
       "\n",
       "    .dataframe thead th {\n",
       "        text-align: right;\n",
       "    }\n",
       "</style>\n",
       "<table border=\"1\" class=\"dataframe\">\n",
       "  <thead>\n",
       "    <tr style=\"text-align: right;\">\n",
       "      <th></th>\n",
       "      <th>text</th>\n",
       "      <th>emotions</th>\n",
       "      <th>split</th>\n",
       "    </tr>\n",
       "  </thead>\n",
       "  <tbody>\n",
       "    <tr>\n",
       "      <th>333346</th>\n",
       "      <td>i dont feel resigned to my fate because i know...</td>\n",
       "      <td>4</td>\n",
       "      <td>1</td>\n",
       "    </tr>\n",
       "    <tr>\n",
       "      <th>333347</th>\n",
       "      <td>i am feeling very grouchy since i returned</td>\n",
       "      <td>0</td>\n",
       "      <td>1</td>\n",
       "    </tr>\n",
       "    <tr>\n",
       "      <th>333348</th>\n",
       "      <td>i still feel shaken</td>\n",
       "      <td>1</td>\n",
       "      <td>1</td>\n",
       "    </tr>\n",
       "    <tr>\n",
       "      <th>333349</th>\n",
       "      <td>i was feeling very lonely and wanting to get a...</td>\n",
       "      <td>4</td>\n",
       "      <td>1</td>\n",
       "    </tr>\n",
       "    <tr>\n",
       "      <th>333350</th>\n",
       "      <td>im not as frustrated and crabby like i used to...</td>\n",
       "      <td>0</td>\n",
       "      <td>1</td>\n",
       "    </tr>\n",
       "  </tbody>\n",
       "</table>\n",
       "</div>"
      ],
      "text/plain": [
       "                                                     text  emotions  split\n",
       "333346  i dont feel resigned to my fate because i know...         4      1\n",
       "333347         i am feeling very grouchy since i returned         0      1\n",
       "333348                                i still feel shaken         1      1\n",
       "333349  i was feeling very lonely and wanting to get a...         4      1\n",
       "333350  im not as frustrated and crabby like i used to...         0      1"
      ]
     },
     "execution_count": 6,
     "metadata": {},
     "output_type": "execute_result"
    }
   ],
   "source": [
    "df = pd.read_csv(\"carer.csv\", index_col=0)\n",
    "df = df[df[\"split\"] == 1]\n",
    "df.head()"
   ]
  },
  {
   "cell_type": "code",
   "execution_count": 7,
   "metadata": {},
   "outputs": [
    {
     "name": "stderr",
     "output_type": "stream",
     "text": [
      "2022-09-09 20:12:41.000497: I tensorflow/stream_executor/cuda/cuda_gpu_executor.cc:966] could not open file to read NUMA node: /sys/bus/pci/devices/0000:01:00.0/numa_node\n",
      "Your kernel may have been built without NUMA support.\n",
      "2022-09-09 20:12:41.000759: W tensorflow/stream_executor/platform/default/dso_loader.cc:64] Could not load dynamic library 'libcudart.so.11.0'; dlerror: libcudart.so.11.0: cannot open shared object file: No such file or directory\n",
      "2022-09-09 20:12:41.000813: W tensorflow/stream_executor/platform/default/dso_loader.cc:64] Could not load dynamic library 'libcublas.so.11'; dlerror: libcublas.so.11: cannot open shared object file: No such file or directory\n",
      "2022-09-09 20:12:41.000886: W tensorflow/stream_executor/platform/default/dso_loader.cc:64] Could not load dynamic library 'libcublasLt.so.11'; dlerror: libcublasLt.so.11: cannot open shared object file: No such file or directory\n",
      "2022-09-09 20:12:41.000934: W tensorflow/stream_executor/platform/default/dso_loader.cc:64] Could not load dynamic library 'libcufft.so.10'; dlerror: libcufft.so.10: cannot open shared object file: No such file or directory\n",
      "2022-09-09 20:12:41.001003: W tensorflow/stream_executor/platform/default/dso_loader.cc:64] Could not load dynamic library 'libcurand.so.10'; dlerror: libcurand.so.10: cannot open shared object file: No such file or directory\n",
      "2022-09-09 20:12:41.001049: W tensorflow/stream_executor/platform/default/dso_loader.cc:64] Could not load dynamic library 'libcusolver.so.11'; dlerror: libcusolver.so.11: cannot open shared object file: No such file or directory\n",
      "2022-09-09 20:12:41.001091: W tensorflow/stream_executor/platform/default/dso_loader.cc:64] Could not load dynamic library 'libcusparse.so.11'; dlerror: libcusparse.so.11: cannot open shared object file: No such file or directory\n",
      "2022-09-09 20:12:41.001135: W tensorflow/stream_executor/platform/default/dso_loader.cc:64] Could not load dynamic library 'libcudnn.so.8'; dlerror: libcudnn.so.8: cannot open shared object file: No such file or directory\n",
      "2022-09-09 20:12:41.001176: W tensorflow/core/common_runtime/gpu/gpu_device.cc:1934] Cannot dlopen some GPU libraries. Please make sure the missing libraries mentioned above are installed properly if you would like to use GPU. Follow the guide at https://www.tensorflow.org/install/gpu for how to download and setup the required libraries for your platform.\n",
      "Skipping registering GPU devices...\n",
      "2022-09-09 20:12:41.003470: I tensorflow/core/platform/cpu_feature_guard.cc:193] This TensorFlow binary is optimized with oneAPI Deep Neural Network Library (oneDNN) to use the following CPU instructions in performance-critical operations:  AVX2 FMA\n",
      "To enable them in other operations, rebuild TensorFlow with the appropriate compiler flags.\n"
     ]
    }
   ],
   "source": [
    "from decks import load_carer\n",
    "\n",
    "ds, _, _ = load_carer(512)"
   ]
  },
  {
   "cell_type": "code",
   "execution_count": 8,
   "metadata": {},
   "outputs": [],
   "source": [
    "from decks.nets import metrics\n",
    "from decks.nets.utils import text_encoder\n",
    "\n",
    "# def build_net(ds):\n",
    "#     outputs = 6\n",
    "#     h1, h2 = 45, 27\n",
    "\n",
    "#     enc = text_encoder(ds, None)\n",
    "#     model = tf.keras.Sequential(\n",
    "#         [\n",
    "#             enc,\n",
    "#             tf.keras.layers.Embedding(\n",
    "#                 input_dim=len(enc.get_vocabulary()),\n",
    "#                 output_dim=h1,\n",
    "#                 mask_zero=True,\n",
    "#             ),\n",
    "#             tf.keras.layers.Bidirectional(tf.keras.layers.GRU(h1)),\n",
    "#             tf.keras.layers.Dense(h2, activation=\"relu\"),\n",
    "#             tf.keras.layers.Dense(outputs, activation=\"softmax\"),\n",
    "#         ]\n",
    "#     )\n",
    "#     model.compile(\n",
    "#         loss=\"sparse_categorical_crossentropy\",\n",
    "#         optimizer=\"adam\",\n",
    "#         metrics=[\n",
    "#             \"accuracy\",\n",
    "#             *[metrics.PrecisionForClass(x) for x in range(outputs)],\n",
    "#             *[metrics.RecallForClass(x) for x in range(outputs)],\n",
    "#             *[metrics.MccForClass(x) for x in range(outputs)],\n",
    "#         ],\n",
    "#     )\n",
    "#     return model\n",
    "\n",
    "def build_net(ds):\n",
    "    outputs = 6\n",
    "    h1, h2 = 67, 40\n",
    "\n",
    "    enc = text_encoder(ds, None)\n",
    "    model = tf.keras.Sequential(\n",
    "        [\n",
    "            enc,\n",
    "            tf.keras.layers.Embedding(\n",
    "                input_dim=len(enc.get_vocabulary()),\n",
    "                output_dim=h1,\n",
    "                mask_zero=True,\n",
    "            ),\n",
    "            tf.keras.layers.Bidirectional(tf.keras.layers.GRU(h1, dropout=0.5)),\n",
    "            tf.keras.layers.Dropout(0.5),\n",
    "            tf.keras.layers.Dense(h2, activation=\"relu\"),\n",
    "            tf.keras.layers.Dense(outputs, activation=\"softmax\"),\n",
    "        ]\n",
    "    )\n",
    "    model.compile(\n",
    "        loss=\"sparse_categorical_crossentropy\",\n",
    "        optimizer=\"adam\",\n",
    "        metrics=[\n",
    "            \"accuracy\",\n",
    "            *[metrics.PrecisionForClass(x) for x in range(outputs)],\n",
    "            *[metrics.RecallForClass(x) for x in range(outputs)],\n",
    "            *[metrics.MccForClass(x) for x in range(outputs)],\n",
    "            *[metrics.F1ForClass(x) for x in range(outputs)],\n",
    "        ],\n",
    "    )\n",
    "    return model\n"
   ]
  },
  {
   "cell_type": "code",
   "execution_count": 26,
   "metadata": {},
   "outputs": [],
   "source": [
    "GEN = 4\n",
    "EPOCHS = 100"
   ]
  },
  {
   "cell_type": "code",
   "execution_count": 36,
   "metadata": {},
   "outputs": [
    {
     "data": {
      "text/plain": [
       "PosixPath('/home/parafoxia/Programs/Projects/decks/data/checkpoints/2004-0100-0512/cp-0100.ckpt')"
      ]
     },
     "execution_count": 36,
     "metadata": {},
     "output_type": "execute_result"
    }
   ],
   "source": [
    "from decks import DATA_DIR\n",
    "\n",
    "net = build_net(ds)\n",
    "# weights = tf.train.latest_checkpoint(DATA_DIR / \"checkpoints/2001-0100-0512\")\n",
    "weights = DATA_DIR / f\"checkpoints/200{GEN}-0100-0512/cp-{EPOCHS:>04}.ckpt\"\n",
    "net.load_weights(weights)\n",
    "weights"
   ]
  },
  {
   "cell_type": "code",
   "execution_count": 37,
   "metadata": {},
   "outputs": [
    {
     "name": "stdout",
     "output_type": "stream",
     "text": [
      "1283/1283 [==============================] - 9s 5ms/step\n"
     ]
    }
   ],
   "source": [
    "y_true = df[\"emotions\"].values\n",
    "y_score = net.predict(df[\"text\"])\n",
    "y_pred = np.argmax(y_score, axis=1)"
   ]
  },
  {
   "cell_type": "code",
   "execution_count": 38,
   "metadata": {},
   "outputs": [
    {
     "name": "stdout",
     "output_type": "stream",
     "text": [
      "  ACC: 0.902\n",
      "maPRE: 0.902\n",
      "maREC: 0.913\n",
      "maMCC: 0.889\n"
     ]
    }
   ],
   "source": [
    "acc = (np.count_nonzero(y_true == y_pred) / len(y_true)) * 100\n",
    "\n",
    "tp, tn, fp, fn = 0, 0, 0, 0\n",
    "pre, rec, mcc = [], [], []\n",
    "\n",
    "for i in range(6):\n",
    "    tp += np.count_nonzero((y_pred == i) & (y_true == i))\n",
    "    tn += np.count_nonzero((y_pred != i) & (y_true != i))\n",
    "    fp += np.count_nonzero((y_pred == i) & (y_true != i))\n",
    "    fn += np.count_nonzero((y_pred != i) & (y_true == i))\n",
    "\n",
    "    pre.append(tp / (tp + fp))\n",
    "    rec.append(tp / (tp + fn))\n",
    "    mcc.append((tp*tn - fp*fn) / (((tp+fn) * (tp+fp) * (tn+fp) * (tn+fn)) ** 0.5))\n",
    "\n",
    "print(f\"  ACC: {acc / 100:.3f}\")\n",
    "print(f\"maPRE: {sum(pre) / len(pre):.3f}\")\n",
    "print(f\"maREC: {sum(rec) / len(rec):.3f}\")\n",
    "print(f\"maMCC: {sum(mcc) / len(mcc):.3f}\")"
   ]
  },
  {
   "cell_type": "code",
   "execution_count": 39,
   "metadata": {},
   "outputs": [
    {
     "data": {
      "text/plain": [
       "array([0.   , 0.039, 0.342, 0.274, 0.345, 0.   ], dtype=float32)"
      ]
     },
     "execution_count": 39,
     "metadata": {},
     "output_type": "execute_result"
    }
   ],
   "source": [
    "np.round(y_score[np.where(np.max(y_score, axis=1) == np.min(np.max(y_score, axis=1)))[0][0]], 3)"
   ]
  },
  {
   "cell_type": "code",
   "execution_count": 40,
   "metadata": {},
   "outputs": [],
   "source": [
    "from sklearn import metrics as skmetrics\n",
    "from sklearn.preprocessing import normalize\n",
    "\n",
    "data = skmetrics.confusion_matrix(y_true, y_pred)\n",
    "data = normalize(data, axis=1, norm=\"l1\") * 100"
   ]
  },
  {
   "cell_type": "code",
   "execution_count": 43,
   "metadata": {},
   "outputs": [
    {
     "data": {
      "text/plain": [
       "Text(95.72222222222221, 0.5, 'True label')"
      ]
     },
     "execution_count": 43,
     "metadata": {},
     "output_type": "execute_result"
    },
    {
     "data": {
      "image/png": "[encoded data removed]",
      "text/plain": [
       "<Figure size 1000x1000 with 2 Axes>"
      ]
     },
     "metadata": {},
     "output_type": "display_data"
    }
   ],
   "source": [
    "fig = plt.figure(figsize=(10, 10))\n",
    "ax = sns.heatmap(data=data, annot=True, fmt=\".2f\")\n",
    "ax.set_title(f\"Normalised confusion matrix: C{GEN} @ {EPOCHS} epochs\")\n",
    "ax.set_xlabel(\"Predicted label\")\n",
    "ax.set_ylabel(\"True label\")"
   ]
  },
  {
   "cell_type": "code",
   "execution_count": 42,
   "metadata": {},
   "outputs": [
    {
     "name": "stdout",
     "output_type": "stream",
     "text": [
      "1/1 [==============================] - 2s 2s/step\n"
     ]
    },
    {
     "data": {
      "text/plain": [
       "array([[0.354, 0.237, 0.182, 0.016, 0.21 , 0.001],\n",
       "       [0.001, 0.797, 0.189, 0.003, 0.01 , 0.   ],\n",
       "       [0.894, 0.006, 0.064, 0.   , 0.036, 0.   ],\n",
       "       [0.   , 0.002, 0.509, 0.   , 0.004, 0.485],\n",
       "       [0.036, 0.001, 0.   , 0.   , 0.963, 0.   ],\n",
       "       [0.201, 0.209, 0.333, 0.007, 0.25 , 0.   ]], dtype=float32)"
      ]
     },
     "execution_count": 42,
     "metadata": {},
     "output_type": "execute_result"
    }
   ],
   "source": [
    "samples = (\n",
    "    \"I can't believe you just that!\",\n",
    "    \"What was that noise?\",\n",
    "    \"I can't contain my excitement!\",\n",
    "    \"This is amazing!\",\n",
    "    \"Everything just fucking sucks.\",\n",
    "    \"Oh my god, you did that for me?\",\n",
    ")\n",
    "arr = net.predict(np.array(samples))\n",
    "np.round(arr, 3)"
   ]
  }
 ],
 "metadata": {
  "kernelspec": {
   "display_name": "Python 3.10.5 ('.venv': venv)",
   "language": "python",
   "name": "python3"
  },
  "language_info": {
   "codemirror_mode": {
    "name": "ipython",
    "version": 3
   },
   "file_extension": ".py",
   "mimetype": "text/x-python",
   "name": "python",
   "nbconvert_exporter": "python",
   "pygments_lexer": "ipython3",
   "version": "3.10.5"
  },
  "orig_nbformat": 4,
  "vscode": {
   "interpreter": {
    "hash": "d8fb390ff4c1a5b6b23065aa4b1e91965c431c9b620d0ba7fce2fe063d009c1f"
   }
  }
 },
 "nbformat": 4,
 "nbformat_minor": 2
}
