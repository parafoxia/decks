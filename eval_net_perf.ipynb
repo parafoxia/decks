{
 "cells": [
  {
   "cell_type": "code",
   "execution_count": 1,
   "metadata": {},
   "outputs": [
    {
     "name": "stderr",
     "output_type": "stream",
     "text": [
      "2022-09-09 22:20:59.609701: I tensorflow/core/platform/cpu_feature_guard.cc:193] This TensorFlow binary is optimized with oneAPI Deep Neural Network Library (oneDNN) to use the following CPU instructions in performance-critical operations:  AVX2 FMA\n",
      "To enable them in other operations, rebuild TensorFlow with the appropriate compiler flags.\n",
      "2022-09-09 22:20:59.795761: W tensorflow/stream_executor/platform/default/dso_loader.cc:64] Could not load dynamic library 'libcudart.so.11.0'; dlerror: libcudart.so.11.0: cannot open shared object file: No such file or directory\n",
      "2022-09-09 22:20:59.795781: I tensorflow/stream_executor/cuda/cudart_stub.cc:29] Ignore above cudart dlerror if you do not have a GPU set up on your machine.\n",
      "2022-09-09 22:20:59.827851: E tensorflow/stream_executor/cuda/cuda_blas.cc:2981] Unable to register cuBLAS factory: Attempting to register factory for plugin cuBLAS when one has already been registered\n",
      "2022-09-09 22:21:00.728650: W tensorflow/stream_executor/platform/default/dso_loader.cc:64] Could not load dynamic library 'libnvinfer.so.7'; dlerror: libnvinfer.so.7: cannot open shared object file: No such file or directory\n",
      "2022-09-09 22:21:00.728857: W tensorflow/stream_executor/platform/default/dso_loader.cc:64] Could not load dynamic library 'libnvinfer_plugin.so.7'; dlerror: libnvinfer_plugin.so.7: cannot open shared object file: No such file or directory\n",
      "2022-09-09 22:21:00.728876: W tensorflow/compiler/tf2tensorrt/utils/py_utils.cc:38] TF-TRT Warning: Cannot dlopen some TensorRT libraries. If you would like to use Nvidia GPU with TensorRT, please make sure the missing libraries mentioned above are installed properly.\n"
     ]
    }
   ],
   "source": [
    "import matplotlib.pyplot as plt\n",
    "import numpy as np\n",
    "import pandas as pd\n",
    "import seaborn as sns\n",
    "import tensorflow as tf"
   ]
  },
  {
   "cell_type": "code",
   "execution_count": 2,
   "metadata": {},
   "outputs": [],
   "source": [
    "sns.set_style(\"darkgrid\")"
   ]
  },
  {
   "cell_type": "code",
   "execution_count": 3,
   "metadata": {},
   "outputs": [
    {
     "data": {
      "text/html": [
       "<div>\n",
       "<style scoped>\n",
       "    .dataframe tbody tr th:only-of-type {\n",
       "        vertical-align: middle;\n",
       "    }\n",
       "\n",
       "    .dataframe tbody tr th {\n",
       "        vertical-align: top;\n",
       "    }\n",
       "\n",
       "    .dataframe thead th {\n",
       "        text-align: right;\n",
       "    }\n",
       "</style>\n",
       "<table border=\"1\" class=\"dataframe\">\n",
       "  <thead>\n",
       "    <tr style=\"text-align: right;\">\n",
       "      <th></th>\n",
       "      <th>text</th>\n",
       "      <th>emotions</th>\n",
       "      <th>split</th>\n",
       "    </tr>\n",
       "  </thead>\n",
       "  <tbody>\n",
       "    <tr>\n",
       "      <th>333346</th>\n",
       "      <td>i dont feel resigned to my fate because i know...</td>\n",
       "      <td>4</td>\n",
       "      <td>1</td>\n",
       "    </tr>\n",
       "    <tr>\n",
       "      <th>333347</th>\n",
       "      <td>i am feeling very grouchy since i returned</td>\n",
       "      <td>0</td>\n",
       "      <td>1</td>\n",
       "    </tr>\n",
       "    <tr>\n",
       "      <th>333348</th>\n",
       "      <td>i still feel shaken</td>\n",
       "      <td>1</td>\n",
       "      <td>1</td>\n",
       "    </tr>\n",
       "    <tr>\n",
       "      <th>333349</th>\n",
       "      <td>i was feeling very lonely and wanting to get a...</td>\n",
       "      <td>4</td>\n",
       "      <td>1</td>\n",
       "    </tr>\n",
       "    <tr>\n",
       "      <th>333350</th>\n",
       "      <td>im not as frustrated and crabby like i used to...</td>\n",
       "      <td>0</td>\n",
       "      <td>1</td>\n",
       "    </tr>\n",
       "  </tbody>\n",
       "</table>\n",
       "</div>"
      ],
      "text/plain": [
       "                                                     text  emotions  split\n",
       "333346  i dont feel resigned to my fate because i know...         4      1\n",
       "333347         i am feeling very grouchy since i returned         0      1\n",
       "333348                                i still feel shaken         1      1\n",
       "333349  i was feeling very lonely and wanting to get a...         4      1\n",
       "333350  im not as frustrated and crabby like i used to...         0      1"
      ]
     },
     "execution_count": 3,
     "metadata": {},
     "output_type": "execute_result"
    }
   ],
   "source": [
    "df = pd.read_csv(\"carer.csv\", index_col=0)\n",
    "df = df[df[\"split\"] == 1]\n",
    "df.head()"
   ]
  },
  {
   "cell_type": "code",
   "execution_count": 4,
   "metadata": {},
   "outputs": [
    {
     "name": "stderr",
     "output_type": "stream",
     "text": [
      "2022-09-09 22:21:03.155667: I tensorflow/stream_executor/cuda/cuda_gpu_executor.cc:966] could not open file to read NUMA node: /sys/bus/pci/devices/0000:01:00.0/numa_node\n",
      "Your kernel may have been built without NUMA support.\n",
      "2022-09-09 22:21:03.155950: W tensorflow/stream_executor/platform/default/dso_loader.cc:64] Could not load dynamic library 'libcudart.so.11.0'; dlerror: libcudart.so.11.0: cannot open shared object file: No such file or directory\n",
      "2022-09-09 22:21:03.156010: W tensorflow/stream_executor/platform/default/dso_loader.cc:64] Could not load dynamic library 'libcublas.so.11'; dlerror: libcublas.so.11: cannot open shared object file: No such file or directory\n",
      "2022-09-09 22:21:03.156062: W tensorflow/stream_executor/platform/default/dso_loader.cc:64] Could not load dynamic library 'libcublasLt.so.11'; dlerror: libcublasLt.so.11: cannot open shared object file: No such file or directory\n",
      "2022-09-09 22:21:03.156110: W tensorflow/stream_executor/platform/default/dso_loader.cc:64] Could not load dynamic library 'libcufft.so.10'; dlerror: libcufft.so.10: cannot open shared object file: No such file or directory\n",
      "2022-09-09 22:21:03.156189: W tensorflow/stream_executor/platform/default/dso_loader.cc:64] Could not load dynamic library 'libcurand.so.10'; dlerror: libcurand.so.10: cannot open shared object file: No such file or directory\n",
      "2022-09-09 22:21:03.156240: W tensorflow/stream_executor/platform/default/dso_loader.cc:64] Could not load dynamic library 'libcusolver.so.11'; dlerror: libcusolver.so.11: cannot open shared object file: No such file or directory\n",
      "2022-09-09 22:21:03.156288: W tensorflow/stream_executor/platform/default/dso_loader.cc:64] Could not load dynamic library 'libcusparse.so.11'; dlerror: libcusparse.so.11: cannot open shared object file: No such file or directory\n",
      "2022-09-09 22:21:03.156371: W tensorflow/stream_executor/platform/default/dso_loader.cc:64] Could not load dynamic library 'libcudnn.so.8'; dlerror: libcudnn.so.8: cannot open shared object file: No such file or directory\n",
      "2022-09-09 22:21:03.156416: W tensorflow/core/common_runtime/gpu/gpu_device.cc:1934] Cannot dlopen some GPU libraries. Please make sure the missing libraries mentioned above are installed properly if you would like to use GPU. Follow the guide at https://www.tensorflow.org/install/gpu for how to download and setup the required libraries for your platform.\n",
      "Skipping registering GPU devices...\n",
      "2022-09-09 22:21:03.157932: I tensorflow/core/platform/cpu_feature_guard.cc:193] This TensorFlow binary is optimized with oneAPI Deep Neural Network Library (oneDNN) to use the following CPU instructions in performance-critical operations:  AVX2 FMA\n",
      "To enable them in other operations, rebuild TensorFlow with the appropriate compiler flags.\n"
     ]
    }
   ],
   "source": [
    "from decks import load_carer\n",
    "\n",
    "ds, _, _ = load_carer(512)"
   ]
  },
  {
   "cell_type": "code",
   "execution_count": 5,
   "metadata": {},
   "outputs": [],
   "source": [
    "from decks.nets import metrics\n",
    "from decks.nets.utils import text_encoder\n",
    "\n",
    "# def build_net(ds):\n",
    "#     outputs = 6\n",
    "#     h1, h2 = 45, 27\n",
    "\n",
    "#     enc = text_encoder(ds, None)\n",
    "#     model = tf.keras.Sequential(\n",
    "#         [\n",
    "#             enc,\n",
    "#             tf.keras.layers.Embedding(\n",
    "#                 input_dim=len(enc.get_vocabulary()),\n",
    "#                 output_dim=h1,\n",
    "#                 mask_zero=True,\n",
    "#             ),\n",
    "#             tf.keras.layers.Bidirectional(tf.keras.layers.GRU(h1)),\n",
    "#             tf.keras.layers.Dense(h2, activation=\"relu\"),\n",
    "#             tf.keras.layers.Dense(outputs, activation=\"softmax\"),\n",
    "#         ]\n",
    "#     )\n",
    "#     model.compile(\n",
    "#         loss=\"sparse_categorical_crossentropy\",\n",
    "#         optimizer=\"adam\",\n",
    "#         metrics=[\n",
    "#             \"accuracy\",\n",
    "#             *[metrics.PrecisionForClass(x) for x in range(outputs)],\n",
    "#             *[metrics.RecallForClass(x) for x in range(outputs)],\n",
    "#             *[metrics.MccForClass(x) for x in range(outputs)],\n",
    "#         ],\n",
    "#     )\n",
    "#     return model\n",
    "\n",
    "# def build_net(ds):\n",
    "#     outputs = 6\n",
    "#     h1, h2 = 67, 40\n",
    "\n",
    "#     enc = text_encoder(ds, None)\n",
    "#     model = tf.keras.Sequential(\n",
    "#         [\n",
    "#             enc,\n",
    "#             tf.keras.layers.Embedding(\n",
    "#                 input_dim=len(enc.get_vocabulary()),\n",
    "#                 output_dim=h1,\n",
    "#                 mask_zero=True,\n",
    "#             ),\n",
    "#             tf.keras.layers.Bidirectional(tf.keras.layers.GRU(h1, dropout=0.5)),\n",
    "#             tf.keras.layers.Dropout(0.5),\n",
    "#             tf.keras.layers.Dense(h2, activation=\"relu\"),\n",
    "#             tf.keras.layers.Dense(outputs, activation=\"softmax\"),\n",
    "#         ]\n",
    "#     )\n",
    "#     model.compile(\n",
    "#         loss=\"sparse_categorical_crossentropy\",\n",
    "#         optimizer=\"adam\",\n",
    "#         metrics=[\n",
    "#             \"accuracy\",\n",
    "#             *[metrics.PrecisionForClass(x) for x in range(outputs)],\n",
    "#             *[metrics.RecallForClass(x) for x in range(outputs)],\n",
    "#             *[metrics.MccForClass(x) for x in range(outputs)],\n",
    "#             *[metrics.F1ForClass(x) for x in range(outputs)],\n",
    "#         ],\n",
    "#     )\n",
    "#     return model\n",
    "\n",
    "def build_net(ds):\n",
    "    outputs = 6\n",
    "    h1, h2 = 67, 40\n",
    "\n",
    "    enc = text_encoder(ds, None)\n",
    "    model = tf.keras.Sequential(\n",
    "        [\n",
    "            enc,\n",
    "            tf.keras.layers.Embedding(\n",
    "                input_dim=len(enc.get_vocabulary()),\n",
    "                output_dim=h1,\n",
    "                mask_zero=True,\n",
    "            ),\n",
    "            tf.keras.layers.Bidirectional(tf.keras.layers.GRU(h1, dropout=0.5)),\n",
    "            tf.keras.layers.Dropout(0.5),\n",
    "            tf.keras.layers.Dense(h2, activation=\"relu\"),\n",
    "            tf.keras.layers.Dense(outputs, activation=\"softmax\"),\n",
    "        ]\n",
    "    )\n",
    "    model.compile(\n",
    "        loss=\"sparse_categorical_crossentropy\",\n",
    "        optimizer=tf.keras.optimizers.SGD(momentum=0.9, nesterov=True),\n",
    "        metrics=[\n",
    "            \"accuracy\",\n",
    "            *[metrics.PrecisionForClass(x) for x in range(outputs)],\n",
    "            *[metrics.RecallForClass(x) for x in range(outputs)],\n",
    "            *[metrics.MccForClass(x) for x in range(outputs)],\n",
    "            *[metrics.F1ForClass(x) for x in range(outputs)],\n",
    "        ],\n",
    "    )\n",
    "    return model"
   ]
  },
  {
   "cell_type": "code",
   "execution_count": 14,
   "metadata": {},
   "outputs": [],
   "source": [
    "GEN = 5\n",
    "EPOCHS = 100"
   ]
  },
  {
   "cell_type": "code",
   "execution_count": 16,
   "metadata": {},
   "outputs": [
    {
     "data": {
      "text/plain": [
       "PosixPath('/home/parafoxia/Programs/Projects/decks/data/checkpoints/2005-0100-0512/cp-0100.ckpt')"
      ]
     },
     "execution_count": 16,
     "metadata": {},
     "output_type": "execute_result"
    }
   ],
   "source": [
    "from decks import DATA_DIR\n",
    "\n",
    "net = build_net(ds)\n",
    "# weights = tf.train.latest_checkpoint(DATA_DIR / \"checkpoints/2001-0100-0512\")\n",
    "weights = DATA_DIR / f\"checkpoints/200{GEN}-0100-0512/cp-{EPOCHS:>04}.ckpt\"\n",
    "net.load_weights(weights)\n",
    "weights"
   ]
  },
  {
   "cell_type": "code",
   "execution_count": 17,
   "metadata": {},
   "outputs": [
    {
     "name": "stdout",
     "output_type": "stream",
     "text": [
      "1283/1283 [==============================] - 9s 6ms/step\n"
     ]
    }
   ],
   "source": [
    "y_true = df[\"emotions\"].values\n",
    "y_score = net.predict(df[\"text\"])\n",
    "y_pred = np.argmax(y_score, axis=1)"
   ]
  },
  {
   "cell_type": "code",
   "execution_count": 18,
   "metadata": {},
   "outputs": [
    {
     "name": "stdout",
     "output_type": "stream",
     "text": [
      "  ACC: 0.903\n",
      "maPRE: 0.908\n",
      "maREC: 0.909\n",
      "maMCC: 0.890\n"
     ]
    }
   ],
   "source": [
    "acc = (np.count_nonzero(y_true == y_pred) / len(y_true)) * 100\n",
    "\n",
    "tp, tn, fp, fn = 0, 0, 0, 0\n",
    "pre, rec, mcc = [], [], []\n",
    "\n",
    "for i in range(6):\n",
    "    tp += np.count_nonzero((y_pred == i) & (y_true == i))\n",
    "    tn += np.count_nonzero((y_pred != i) & (y_true != i))\n",
    "    fp += np.count_nonzero((y_pred == i) & (y_true != i))\n",
    "    fn += np.count_nonzero((y_pred != i) & (y_true == i))\n",
    "\n",
    "    pre.append(tp / (tp + fp))\n",
    "    rec.append(tp / (tp + fn))\n",
    "    mcc.append((tp*tn - fp*fn) / (((tp+fn) * (tp+fp) * (tn+fp) * (tn+fn)) ** 0.5))\n",
    "\n",
    "print(f\"  ACC: {acc / 100:.3f}\")\n",
    "print(f\"maPRE: {sum(pre) / len(pre):.3f}\")\n",
    "print(f\"maREC: {sum(rec) / len(rec):.3f}\")\n",
    "print(f\"maMCC: {sum(mcc) / len(mcc):.3f}\")"
   ]
  },
  {
   "cell_type": "code",
   "execution_count": 19,
   "metadata": {},
   "outputs": [
    {
     "data": {
      "text/plain": [
       "array([0.283, 0.315, 0.137, 0.001, 0.263, 0.   ], dtype=float32)"
      ]
     },
     "execution_count": 19,
     "metadata": {},
     "output_type": "execute_result"
    }
   ],
   "source": [
    "np.round(y_score[np.where(np.max(y_score, axis=1) == np.min(np.max(y_score, axis=1)))[0][0]], 3)"
   ]
  },
  {
   "cell_type": "code",
   "execution_count": 20,
   "metadata": {},
   "outputs": [],
   "source": [
    "from sklearn import metrics as skmetrics\n",
    "from sklearn.preprocessing import normalize\n",
    "\n",
    "data = skmetrics.confusion_matrix(y_true, y_pred)\n",
    "data = normalize(data, axis=1, norm=\"l1\") * 100"
   ]
  },
  {
   "cell_type": "code",
   "execution_count": 21,
   "metadata": {},
   "outputs": [
    {
     "data": {
      "text/plain": [
       "Text(95.72222222222221, 0.5, 'True label')"
      ]
     },
     "execution_count": 21,
     "metadata": {},
     "output_type": "execute_result"
    },
    {
     "data": {
      "image/png": "[encoded data removed]",
      "text/plain": [
       "<Figure size 1000x1000 with 2 Axes>"
      ]
     },
     "metadata": {},
     "output_type": "display_data"
    }
   ],
   "source": [
    "fig = plt.figure(figsize=(10, 10))\n",
    "ax = sns.heatmap(data=data, annot=True, fmt=\".2f\")\n",
    "ax.set_title(f\"Normalised confusion matrix: C{GEN} @ {EPOCHS} epochs\")\n",
    "ax.set_xlabel(\"Predicted label\")\n",
    "ax.set_ylabel(\"True label\")"
   ]
  },
  {
   "cell_type": "code",
   "execution_count": 22,
   "metadata": {},
   "outputs": [
    {
     "name": "stdout",
     "output_type": "stream",
     "text": [
      "1/1 [==============================] - 2s 2s/step\n"
     ]
    },
    {
     "data": {
      "text/plain": [
       "array([[0.098, 0.245, 0.367, 0.02 , 0.268, 0.001],\n",
       "       [0.073, 0.171, 0.573, 0.014, 0.169, 0.   ],\n",
       "       [0.084, 0.197, 0.355, 0.018, 0.345, 0.   ],\n",
       "       [0.   , 0.443, 0.44 , 0.007, 0.053, 0.057],\n",
       "       [0.278, 0.155, 0.24 , 0.018, 0.308, 0.   ],\n",
       "       [0.14 , 0.285, 0.28 , 0.011, 0.283, 0.   ]], dtype=float32)"
      ]
     },
     "execution_count": 22,
     "metadata": {},
     "output_type": "execute_result"
    }
   ],
   "source": [
    "samples = (\n",
    "    \"I can't believe you just that!\",\n",
    "    \"What was that noise?\",\n",
    "    \"I can't contain my excitement!\",\n",
    "    \"This is amazing!\",\n",
    "    \"Everything just fucking sucks.\",\n",
    "    \"Oh my god, you did that for me?\",\n",
    ")\n",
    "arr = net.predict(np.array(samples))\n",
    "np.round(arr, 3)"
   ]
  }
 ],
 "metadata": {
  "kernelspec": {
   "display_name": "Python 3.10.5 ('.venv': venv)",
   "language": "python",
   "name": "python3"
  },
  "language_info": {
   "codemirror_mode": {
    "name": "ipython",
    "version": 3
   },
   "file_extension": ".py",
   "mimetype": "text/x-python",
   "name": "python",
   "nbconvert_exporter": "python",
   "pygments_lexer": "ipython3",
   "version": "3.10.5"
  },
  "orig_nbformat": 4,
  "vscode": {
   "interpreter": {
    "hash": "d8fb390ff4c1a5b6b23065aa4b1e91965c431c9b620d0ba7fce2fe063d009c1f"
   }
  }
 },
 "nbformat": 4,
 "nbformat_minor": 2
}
