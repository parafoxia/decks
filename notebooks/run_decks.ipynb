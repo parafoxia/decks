{
 "cells": [
  {
   "cell_type": "code",
   "execution_count": 13,
   "metadata": {},
   "outputs": [],
   "source": [
    "import matplotlib.pyplot as plt\n",
    "import numpy as np\n",
    "import pandas as pd\n",
    "import seaborn as sns\n",
    "\n",
    "import decks"
   ]
  },
  {
   "cell_type": "code",
   "execution_count": 14,
   "metadata": {},
   "outputs": [
    {
     "data": {
      "text/html": [
       "<div>\n",
       "<style scoped>\n",
       "    .dataframe tbody tr th:only-of-type {\n",
       "        vertical-align: middle;\n",
       "    }\n",
       "\n",
       "    .dataframe tbody tr th {\n",
       "        vertical-align: top;\n",
       "    }\n",
       "\n",
       "    .dataframe thead th {\n",
       "        text-align: right;\n",
       "    }\n",
       "</style>\n",
       "<table border=\"1\" class=\"dataframe\">\n",
       "  <thead>\n",
       "    <tr style=\"text-align: right;\">\n",
       "      <th></th>\n",
       "      <th>Utterance</th>\n",
       "      <th>Emotion</th>\n",
       "    </tr>\n",
       "    <tr>\n",
       "      <th>Sr No.</th>\n",
       "      <th></th>\n",
       "      <th></th>\n",
       "    </tr>\n",
       "  </thead>\n",
       "  <tbody>\n",
       "    <tr>\n",
       "      <th>1</th>\n",
       "      <td>Oh my God, he’s lost it. He’s totally lost it.</td>\n",
       "      <td>sadness</td>\n",
       "    </tr>\n",
       "    <tr>\n",
       "      <th>2</th>\n",
       "      <td>What?</td>\n",
       "      <td>surprise</td>\n",
       "    </tr>\n",
       "    <tr>\n",
       "      <th>3</th>\n",
       "      <td>Or! Or, we could go to the bank, close our acc...</td>\n",
       "      <td>neutral</td>\n",
       "    </tr>\n",
       "    <tr>\n",
       "      <th>4</th>\n",
       "      <td>You’re a genius!</td>\n",
       "      <td>joy</td>\n",
       "    </tr>\n",
       "    <tr>\n",
       "      <th>5</th>\n",
       "      <td>Aww, man, now we won’t be bank buddies!</td>\n",
       "      <td>sadness</td>\n",
       "    </tr>\n",
       "  </tbody>\n",
       "</table>\n",
       "</div>"
      ],
      "text/plain": [
       "                                                Utterance   Emotion\n",
       "Sr No.                                                             \n",
       "1          Oh my God, he’s lost it. He’s totally lost it.   sadness\n",
       "2                                                   What?  surprise\n",
       "3       Or! Or, we could go to the bank, close our acc...   neutral\n",
       "4                                        You’re a genius!       joy\n",
       "5                 Aww, man, now we won’t be bank buddies!   sadness"
      ]
     },
     "execution_count": 14,
     "metadata": {},
     "output_type": "execute_result"
    }
   ],
   "source": [
    "df = pd.read_csv(\"convos.csv\", index_col=0)\n",
    "df = df[[\"Utterance\", \"Emotion\"]]\n",
    "df.head()"
   ]
  },
  {
   "cell_type": "code",
   "execution_count": 15,
   "metadata": {},
   "outputs": [
    {
     "data": {
      "text/plain": [
       "{'anger', 'disgust', 'fear', 'joy', 'neutral', 'sadness', 'surprise'}"
      ]
     },
     "execution_count": 15,
     "metadata": {},
     "output_type": "execute_result"
    }
   ],
   "source": [
    "set(df[\"Emotion\"])"
   ]
  },
  {
   "cell_type": "code",
   "execution_count": 16,
   "metadata": {},
   "outputs": [],
   "source": [
    "emotions = [\"anger\", \"fear\", \"joy\", \"love\", \"sadness\", \"surprise\"]"
   ]
  },
  {
   "cell_type": "code",
   "execution_count": 17,
   "metadata": {},
   "outputs": [
    {
     "name": "stdout",
     "output_type": "stream",
     "text": [
      "Using 67:40 for hidden layers\n"
     ]
    }
   ],
   "source": [
    "net = decks.DecksNet(0.2)"
   ]
  },
  {
   "cell_type": "code",
   "execution_count": 18,
   "metadata": {},
   "outputs": [
    {
     "data": {
      "text/plain": [
       "array([[0.073, 0.004, 0.859, 0.005, 0.058, 0.001],\n",
       "       [0.269, 0.097, 0.062, 0.003, 0.549, 0.019],\n",
       "       [0.142, 0.418, 0.318, 0.008, 0.096, 0.018],\n",
       "       [0.299, 0.097, 0.284, 0.011, 0.302, 0.007],\n",
       "       [0.241, 0.072, 0.573, 0.004, 0.107, 0.003],\n",
       "       [0.024, 0.018, 0.05 , 0.001, 0.906, 0.001],\n",
       "       [0.344, 0.184, 0.319, 0.01 , 0.141, 0.002]], dtype=float32)"
      ]
     },
     "execution_count": 18,
     "metadata": {},
     "output_type": "execute_result"
    }
   ],
   "source": [
    "convo_1 = [  # alpha=0.2 works well here.\n",
    "    \"I'm really excited to see you!\",\n",
    "    \"Get lost.\",\n",
    "    \"Hey, what the hell?!\",\n",
    "    \"I know what you said about my sister.\",\n",
    "    \"Hey man, I was joking!\",\n",
    "    \"I don't care. It really hurt her.\",\n",
    "    \"Well, screw you then.\",\n",
    "]\n",
    "\n",
    "np.round(net.emotion(np.array(convo_1)), 3)"
   ]
  },
  {
   "cell_type": "code",
   "execution_count": 19,
   "metadata": {},
   "outputs": [
    {
     "name": "stdout",
     "output_type": "stream",
     "text": [
      "Tensor(\"decks_net_1/sequential_1/dense_3/Softmax:0\", shape=(None, 6), dtype=float32)\n",
      "1/1 [==============================] - 2s 2s/step\n"
     ]
    },
    {
     "data": {
      "text/plain": [
       "array([[0.433, 0.267, 0.895, 0.746, 0.1  , 0.839],\n",
       "       [0.543, 0.392, 0.76 , 0.713, 0.232, 0.818],\n",
       "       [0.595, 0.452, 0.704, 0.665, 0.28 , 0.791],\n",
       "       [0.635, 0.499, 0.652, 0.63 , 0.328, 0.749],\n",
       "       [0.634, 0.493, 0.66 , 0.631, 0.318, 0.753],\n",
       "       [0.67 , 0.577, 0.546, 0.57 , 0.441, 0.655],\n",
       "       [0.693, 0.594, 0.538, 0.551, 0.44 , 0.649]])"
      ]
     },
     "execution_count": 19,
     "metadata": {},
     "output_type": "execute_result"
    }
   ],
   "source": [
    "preds = np.round(net.predict(convo_1), 3)\n",
    "preds"
   ]
  },
  {
   "cell_type": "code",
   "execution_count": 20,
   "metadata": {},
   "outputs": [
    {
     "data": {
      "text/html": [
       "<div>\n",
       "<style scoped>\n",
       "    .dataframe tbody tr th:only-of-type {\n",
       "        vertical-align: middle;\n",
       "    }\n",
       "\n",
       "    .dataframe tbody tr th {\n",
       "        vertical-align: top;\n",
       "    }\n",
       "\n",
       "    .dataframe thead th {\n",
       "        text-align: right;\n",
       "    }\n",
       "</style>\n",
       "<table border=\"1\" class=\"dataframe\">\n",
       "  <thead>\n",
       "    <tr style=\"text-align: right;\">\n",
       "      <th></th>\n",
       "      <th>Utterance</th>\n",
       "      <th>Emotion</th>\n",
       "    </tr>\n",
       "    <tr>\n",
       "      <th>Sr No.</th>\n",
       "      <th></th>\n",
       "      <th></th>\n",
       "    </tr>\n",
       "  </thead>\n",
       "  <tbody>\n",
       "    <tr>\n",
       "      <th>774</th>\n",
       "      <td>Here!</td>\n",
       "      <td>anger</td>\n",
       "    </tr>\n",
       "    <tr>\n",
       "      <th>775</th>\n",
       "      <td>Andy Cooper, he teaches guitar and look ooh, t...</td>\n",
       "      <td>neutral</td>\n",
       "    </tr>\n",
       "    <tr>\n",
       "      <th>776</th>\n",
       "      <td>Fine! You go learn from your qualified instruc...</td>\n",
       "      <td>anger</td>\n",
       "    </tr>\n",
       "    <tr>\n",
       "      <th>777</th>\n",
       "      <td>\"Baddest man in the whole damn town.\"</td>\n",
       "      <td>neutral</td>\n",
       "    </tr>\n",
       "    <tr>\n",
       "      <th>778</th>\n",
       "      <td>Oh, fine! Take his side!</td>\n",
       "      <td>anger</td>\n",
       "    </tr>\n",
       "    <tr>\n",
       "      <th>779</th>\n",
       "      <td>And shame on you! You should know better, Joey...</td>\n",
       "      <td>anger</td>\n",
       "    </tr>\n",
       "    <tr>\n",
       "      <th>780</th>\n",
       "      <td>Hey!</td>\n",
       "      <td>anger</td>\n",
       "    </tr>\n",
       "    <tr>\n",
       "      <th>781</th>\n",
       "      <td>No! Ah-ah-ah-ah-ah! You can have this back whe...</td>\n",
       "      <td>anger</td>\n",
       "    </tr>\n",
       "    <tr>\n",
       "      <th>782</th>\n",
       "      <td>Hi!</td>\n",
       "      <td>joy</td>\n",
       "    </tr>\n",
       "    <tr>\n",
       "      <th>783</th>\n",
       "      <td>Hi.</td>\n",
       "      <td>neutral</td>\n",
       "    </tr>\n",
       "  </tbody>\n",
       "</table>\n",
       "</div>"
      ],
      "text/plain": [
       "                                                Utterance  Emotion\n",
       "Sr No.                                                            \n",
       "774                                                 Here!    anger\n",
       "775     Andy Cooper, he teaches guitar and look ooh, t...  neutral\n",
       "776     Fine! You go learn from your qualified instruc...    anger\n",
       "777                 \"Baddest man in the whole damn town.\"  neutral\n",
       "778                              Oh, fine! Take his side!    anger\n",
       "779     And shame on you! You should know better, Joey...    anger\n",
       "780                                                  Hey!    anger\n",
       "781     No! Ah-ah-ah-ah-ah! You can have this back whe...    anger\n",
       "782                                                   Hi!      joy\n",
       "783                                                   Hi.  neutral"
      ]
     },
     "execution_count": 20,
     "metadata": {},
     "output_type": "execute_result"
    }
   ],
   "source": [
    "import random\n",
    "\n",
    "MAX = len(df) - 10\n",
    "# idx = random.randint(0, MAX)\n",
    "idx = 774\n",
    "convo = df.loc[idx:idx + 9]\n",
    "convo\n",
    "\n",
    "# 774, 16, 436, 906, 388, 39"
   ]
  },
  {
   "cell_type": "code",
   "execution_count": 21,
   "metadata": {},
   "outputs": [
    {
     "name": "stdout",
     "output_type": "stream",
     "text": [
      "joy 0.859\n",
      "sadness 0.549\n",
      "fear 0.418\n",
      "sadness 0.302\n",
      "joy 0.573\n",
      "sadness 0.906\n",
      "anger 0.344\n"
     ]
    }
   ],
   "source": [
    "arr = np.round(net.emotion(np.array(convo_1)), 3)\n",
    "\n",
    "for i in range(len(arr)):\n",
    "    argmax = np.argmax(arr[i])\n",
    "    print(emotions[argmax], arr[i][argmax])"
   ]
  },
  {
   "cell_type": "code",
   "execution_count": 22,
   "metadata": {},
   "outputs": [
    {
     "name": "stdout",
     "output_type": "stream",
     "text": [
      "1/1 [==============================] - 0s 34ms/step\n"
     ]
    },
    {
     "data": {
      "text/plain": [
       "array([[0.433, 0.267, 0.895, 0.746, 0.1  , 0.839],\n",
       "       [0.543, 0.392, 0.76 , 0.713, 0.232, 0.818],\n",
       "       [0.595, 0.452, 0.704, 0.665, 0.28 , 0.791],\n",
       "       [0.635, 0.499, 0.652, 0.63 , 0.328, 0.749],\n",
       "       [0.634, 0.493, 0.66 , 0.631, 0.318, 0.753],\n",
       "       [0.67 , 0.577, 0.546, 0.57 , 0.441, 0.655],\n",
       "       [0.693, 0.594, 0.538, 0.551, 0.44 , 0.649]])"
      ]
     },
     "execution_count": 22,
     "metadata": {},
     "output_type": "execute_result"
    }
   ],
   "source": [
    "preds = net.predict(convo_1)\n",
    "np.round(preds, 3)"
   ]
  },
  {
   "cell_type": "code",
   "execution_count": 23,
   "metadata": {},
   "outputs": [
    {
     "data": {
      "text/plain": [
       "array([2, 5, 5, 5, 5, 0, 0])"
      ]
     },
     "execution_count": 23,
     "metadata": {},
     "output_type": "execute_result"
    }
   ],
   "source": [
    "# [\"anger\", \"fear\", \"joy\", \"love\", \"sadness\", \"surprise\"]\n",
    "np.argmax(preds, axis=1)"
   ]
  },
  {
   "cell_type": "code",
   "execution_count": 24,
   "metadata": {},
   "outputs": [
    {
     "data": {
      "image/png": "[encoded data removed]",
      "text/plain": [
       "<Figure size 1500x500 with 3 Axes>"
      ]
     },
     "metadata": {},
     "output_type": "display_data"
    }
   ],
   "source": [
    "fig, axes = plt.subplots(1, 3, figsize=(15, 5), sharex=True, sharey=True)\n",
    "axes[0].set_xlim(-1, 1)\n",
    "axes[0].set_ylim(-1, 1)\n",
    "\n",
    "dims = {\n",
    "    \"Valence-Arousal\": (0, 1),\n",
    "    \"Valence-Dominance\": (0, 2),\n",
    "    \"Arousal-Dominance\": (1, 2),\n",
    "}\n",
    "\n",
    "for i, (k, v) in enumerate(dims.items()):\n",
    "    axes[i].set_title(k)\n",
    "    axes[i].set_xlabel(k.split(\"-\")[0])\n",
    "    axes[i].set_ylabel(k.split(\"-\")[1])\n",
    "\n",
    "    sns.scatterplot(ax=axes[i], x=net.context.points[:, v[0]], y=net.context.points[:, v[1]])\n",
    "    for j, text in enumerate(emotions):\n",
    "        axes[i].annotate(text, (net.context.points[j, v[0]], net.context.points[j, v[1]]))\n",
    "\n",
    "    for j in range(1, len(net.context.path)):\n",
    "        sns.lineplot(ax=axes[i], x=net.context.path[j-1:j+1, v[0]], y=net.context.path[j-1:j+1, v[1]])\n",
    "    sns.scatterplot(ax=axes[i], x=[net.context.path[-1, v[0]]], y=[net.context.path[-1, v[1]]], s=50)"
   ]
  }
 ],
 "metadata": {
  "kernelspec": {
   "display_name": "Python 3.10.5 ('.venv': venv)",
   "language": "python",
   "name": "python3"
  },
  "language_info": {
   "codemirror_mode": {
    "name": "ipython",
    "version": 3
   },
   "file_extension": ".py",
   "mimetype": "text/x-python",
   "name": "python",
   "nbconvert_exporter": "python",
   "pygments_lexer": "ipython3",
   "version": "3.10.5"
  },
  "orig_nbformat": 4,
  "vscode": {
   "interpreter": {
    "hash": "d8fb390ff4c1a5b6b23065aa4b1e91965c431c9b620d0ba7fce2fe063d009c1f"
   }
  }
 },
 "nbformat": 4,
 "nbformat_minor": 2
}
