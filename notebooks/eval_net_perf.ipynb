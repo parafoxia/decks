{
 "cells": [
  {
   "cell_type": "code",
   "execution_count": 50,
   "metadata": {},
   "outputs": [],
   "source": [
    "import matplotlib.pyplot as plt\n",
    "import numpy as np\n",
    "import pandas as pd\n",
    "import seaborn as sns\n",
    "import tensorflow as tf\n",
    "import tensorflow_addons as tfa"
   ]
  },
  {
   "cell_type": "code",
   "execution_count": 5,
   "metadata": {},
   "outputs": [],
   "source": [
    "sns.set_style(\"darkgrid\")"
   ]
  },
  {
   "cell_type": "code",
   "execution_count": 6,
   "metadata": {},
   "outputs": [
    {
     "data": {
      "text/html": [
       "<div>\n",
       "<style scoped>\n",
       "    .dataframe tbody tr th:only-of-type {\n",
       "        vertical-align: middle;\n",
       "    }\n",
       "\n",
       "    .dataframe tbody tr th {\n",
       "        vertical-align: top;\n",
       "    }\n",
       "\n",
       "    .dataframe thead th {\n",
       "        text-align: right;\n",
       "    }\n",
       "</style>\n",
       "<table border=\"1\" class=\"dataframe\">\n",
       "  <thead>\n",
       "    <tr style=\"text-align: right;\">\n",
       "      <th></th>\n",
       "      <th>text</th>\n",
       "      <th>emotions</th>\n",
       "      <th>split</th>\n",
       "    </tr>\n",
       "  </thead>\n",
       "  <tbody>\n",
       "    <tr>\n",
       "      <th>333346</th>\n",
       "      <td>i dont feel resigned to my fate because i know...</td>\n",
       "      <td>4</td>\n",
       "      <td>1</td>\n",
       "    </tr>\n",
       "    <tr>\n",
       "      <th>333347</th>\n",
       "      <td>i am feeling very grouchy since i returned</td>\n",
       "      <td>0</td>\n",
       "      <td>1</td>\n",
       "    </tr>\n",
       "    <tr>\n",
       "      <th>333348</th>\n",
       "      <td>i still feel shaken</td>\n",
       "      <td>1</td>\n",
       "      <td>1</td>\n",
       "    </tr>\n",
       "    <tr>\n",
       "      <th>333349</th>\n",
       "      <td>i was feeling very lonely and wanting to get a...</td>\n",
       "      <td>4</td>\n",
       "      <td>1</td>\n",
       "    </tr>\n",
       "    <tr>\n",
       "      <th>333350</th>\n",
       "      <td>im not as frustrated and crabby like i used to...</td>\n",
       "      <td>0</td>\n",
       "      <td>1</td>\n",
       "    </tr>\n",
       "  </tbody>\n",
       "</table>\n",
       "</div>"
      ],
      "text/plain": [
       "                                                     text  emotions  split\n",
       "333346  i dont feel resigned to my fate because i know...         4      1\n",
       "333347         i am feeling very grouchy since i returned         0      1\n",
       "333348                                i still feel shaken         1      1\n",
       "333349  i was feeling very lonely and wanting to get a...         4      1\n",
       "333350  im not as frustrated and crabby like i used to...         0      1"
      ]
     },
     "execution_count": 6,
     "metadata": {},
     "output_type": "execute_result"
    }
   ],
   "source": [
    "df = pd.read_csv(\"carer.csv\", index_col=0)\n",
    "df = df[df[\"split\"] == 1]\n",
    "df.head()"
   ]
  },
  {
   "cell_type": "code",
   "execution_count": 7,
   "metadata": {},
   "outputs": [
    {
     "name": "stderr",
     "output_type": "stream",
     "text": [
      "2022-09-10 00:04:28.899888: I tensorflow/stream_executor/cuda/cuda_gpu_executor.cc:966] could not open file to read NUMA node: /sys/bus/pci/devices/0000:01:00.0/numa_node\n",
      "Your kernel may have been built without NUMA support.\n",
      "2022-09-10 00:04:28.900134: W tensorflow/stream_executor/platform/default/dso_loader.cc:64] Could not load dynamic library 'libcudart.so.11.0'; dlerror: libcudart.so.11.0: cannot open shared object file: No such file or directory\n",
      "2022-09-10 00:04:28.900276: W tensorflow/stream_executor/platform/default/dso_loader.cc:64] Could not load dynamic library 'libcublas.so.11'; dlerror: libcublas.so.11: cannot open shared object file: No such file or directory\n",
      "2022-09-10 00:04:28.900359: W tensorflow/stream_executor/platform/default/dso_loader.cc:64] Could not load dynamic library 'libcublasLt.so.11'; dlerror: libcublasLt.so.11: cannot open shared object file: No such file or directory\n",
      "2022-09-10 00:04:28.900433: W tensorflow/stream_executor/platform/default/dso_loader.cc:64] Could not load dynamic library 'libcufft.so.10'; dlerror: libcufft.so.10: cannot open shared object file: No such file or directory\n",
      "2022-09-10 00:04:28.900504: W tensorflow/stream_executor/platform/default/dso_loader.cc:64] Could not load dynamic library 'libcurand.so.10'; dlerror: libcurand.so.10: cannot open shared object file: No such file or directory\n",
      "2022-09-10 00:04:28.900576: W tensorflow/stream_executor/platform/default/dso_loader.cc:64] Could not load dynamic library 'libcusolver.so.11'; dlerror: libcusolver.so.11: cannot open shared object file: No such file or directory\n",
      "2022-09-10 00:04:28.900645: W tensorflow/stream_executor/platform/default/dso_loader.cc:64] Could not load dynamic library 'libcusparse.so.11'; dlerror: libcusparse.so.11: cannot open shared object file: No such file or directory\n",
      "2022-09-10 00:04:28.900817: W tensorflow/stream_executor/platform/default/dso_loader.cc:64] Could not load dynamic library 'libcudnn.so.8'; dlerror: libcudnn.so.8: cannot open shared object file: No such file or directory\n",
      "2022-09-10 00:04:28.900846: W tensorflow/core/common_runtime/gpu/gpu_device.cc:1934] Cannot dlopen some GPU libraries. Please make sure the missing libraries mentioned above are installed properly if you would like to use GPU. Follow the guide at https://www.tensorflow.org/install/gpu for how to download and setup the required libraries for your platform.\n",
      "Skipping registering GPU devices...\n",
      "2022-09-10 00:04:28.901430: I tensorflow/core/platform/cpu_feature_guard.cc:193] This TensorFlow binary is optimized with oneAPI Deep Neural Network Library (oneDNN) to use the following CPU instructions in performance-critical operations:  AVX2 FMA\n",
      "To enable them in other operations, rebuild TensorFlow with the appropriate compiler flags.\n"
     ]
    }
   ],
   "source": [
    "from decks import load_carer\n",
    "\n",
    "ds, _, _ = load_carer(512)"
   ]
  },
  {
   "cell_type": "code",
   "execution_count": 92,
   "metadata": {},
   "outputs": [],
   "source": [
    "from decks.nets import metrics\n",
    "from decks.nets.utils import text_encoder\n",
    "\n",
    "# def build_net(ds):\n",
    "#     outputs = 6\n",
    "#     h1, h2 = 45, 27\n",
    "\n",
    "#     enc = text_encoder(ds, None)\n",
    "#     model = tf.keras.Sequential(\n",
    "#         [\n",
    "#             enc,\n",
    "#             tf.keras.layers.Embedding(\n",
    "#                 input_dim=len(enc.get_vocabulary()),\n",
    "#                 output_dim=h1,\n",
    "#                 mask_zero=True,\n",
    "#             ),\n",
    "#             tf.keras.layers.Bidirectional(tf.keras.layers.GRU(h1)),\n",
    "#             tf.keras.layers.Dense(h2, activation=\"relu\"),\n",
    "#             tf.keras.layers.Dense(outputs, activation=\"softmax\"),\n",
    "#         ]\n",
    "#     )\n",
    "#     model.compile(\n",
    "#         loss=\"sparse_categorical_crossentropy\",\n",
    "#         optimizer=\"adam\",\n",
    "#         metrics=[\n",
    "#             \"accuracy\",\n",
    "#             *[metrics.PrecisionForClass(x) for x in range(outputs)],\n",
    "#             *[metrics.RecallForClass(x) for x in range(outputs)],\n",
    "#             *[metrics.MccForClass(x) for x in range(outputs)],\n",
    "#         ],\n",
    "#     )\n",
    "#     return model\n",
    "\n",
    "# def build_net(ds):\n",
    "#     outputs = 6\n",
    "#     h1, h2 = 67, 40\n",
    "\n",
    "#     enc = text_encoder(ds, None)\n",
    "#     model = tf.keras.Sequential(\n",
    "#         [\n",
    "#             enc,\n",
    "#             tf.keras.layers.Embedding(\n",
    "#                 input_dim=len(enc.get_vocabulary()),\n",
    "#                 output_dim=h1,\n",
    "#                 mask_zero=True,\n",
    "#             ),\n",
    "#             tf.keras.layers.Bidirectional(tf.keras.layers.GRU(h1, dropout=0.5)),\n",
    "#             tf.keras.layers.Dropout(0.5),\n",
    "#             tf.keras.layers.Dense(h2, activation=\"relu\"),\n",
    "#             tf.keras.layers.Dense(outputs, activation=\"softmax\"),\n",
    "#         ]\n",
    "#     )\n",
    "#     model.compile(\n",
    "#         loss=\"sparse_categorical_crossentropy\",\n",
    "#         optimizer=\"adam\",\n",
    "#         metrics=[\n",
    "#             \"accuracy\",\n",
    "#             *[metrics.PrecisionForClass(x) for x in range(outputs)],\n",
    "#             *[metrics.RecallForClass(x) for x in range(outputs)],\n",
    "#             *[metrics.MccForClass(x) for x in range(outputs)],\n",
    "#             *[metrics.F1ForClass(x) for x in range(outputs)],\n",
    "#         ],\n",
    "#     )\n",
    "#     return model\n",
    "\n",
    "# def build_net(ds):\n",
    "#     outputs = 6\n",
    "#     h1, h2 = 67, 40\n",
    "\n",
    "#     enc = text_encoder(ds, None)\n",
    "#     model = tf.keras.Sequential(\n",
    "#         [\n",
    "#             enc,\n",
    "#             tf.keras.layers.Embedding(\n",
    "#                 input_dim=len(enc.get_vocabulary()),\n",
    "#                 output_dim=h1,\n",
    "#                 mask_zero=True,\n",
    "#             ),\n",
    "#             tf.keras.layers.Bidirectional(tf.keras.layers.GRU(h1, dropout=0.5)),\n",
    "#             tf.keras.layers.Dropout(0.5),\n",
    "#             tf.keras.layers.Dense(h2, activation=\"relu\"),\n",
    "#             tf.keras.layers.Dense(outputs, activation=\"softmax\"),\n",
    "#         ]\n",
    "#     )\n",
    "#     model.compile(\n",
    "#         loss=\"sparse_categorical_crossentropy\",\n",
    "#         optimizer=tf.keras.optimizers.SGD(momentum=0.9, nesterov=True),\n",
    "#         metrics=[\n",
    "#             \"accuracy\",\n",
    "#             *[metrics.PrecisionForClass(x) for x in range(outputs)],\n",
    "#             *[metrics.RecallForClass(x) for x in range(outputs)],\n",
    "#             *[metrics.MccForClass(x) for x in range(outputs)],\n",
    "#             *[metrics.F1ForClass(x) for x in range(outputs)],\n",
    "#         ],\n",
    "#     )\n",
    "#     return model\n",
    "\n",
    "def build_net(ds):\n",
    "    outputs = 6\n",
    "    h1, h2 = 67, 40\n",
    "\n",
    "    enc = text_encoder(ds, None)\n",
    "    model = tf.keras.Sequential(\n",
    "        [\n",
    "            enc,\n",
    "            tf.keras.layers.Embedding(\n",
    "                input_dim=len(enc.get_vocabulary()),\n",
    "                output_dim=h1,\n",
    "                mask_zero=True,\n",
    "            ),\n",
    "            tf.keras.layers.Bidirectional(tf.keras.layers.GRU(h1, dropout=0.5)),\n",
    "            tf.keras.layers.Dropout(0.5),\n",
    "            tf.keras.layers.Dense(h2),\n",
    "            tf.keras.layers.LeakyReLU(alpha=0.01),\n",
    "            tf.keras.layers.Dense(outputs, activation=\"softmax\"),\n",
    "        ]\n",
    "    )\n",
    "    model.compile(\n",
    "        loss=\"sparse_categorical_crossentropy\",\n",
    "        optimizer=\"adam\",\n",
    "    )\n",
    "    return model\n",
    "\n",
    "# def build_net(ds):\n",
    "#     outputs = 6\n",
    "#     h1, h2 = 67, 40\n",
    "\n",
    "#     enc = text_encoder(ds, None)\n",
    "#     model = tf.keras.Sequential(\n",
    "#         [\n",
    "#             enc,\n",
    "#             tf.keras.layers.Embedding(\n",
    "#                 input_dim=len(enc.get_vocabulary()),\n",
    "#                 output_dim=h1,\n",
    "#                 mask_zero=True,\n",
    "#             ),\n",
    "#             tf.keras.layers.Bidirectional(tf.keras.layers.GRU(h1, dropout=0.5)),\n",
    "#             tf.keras.layers.Dropout(0.5),\n",
    "#             tf.keras.layers.Dense(h2),\n",
    "#             tfa.layers.Maxout(5),\n",
    "#             tf.keras.layers.Dense(outputs, activation=\"softmax\"),\n",
    "#         ]\n",
    "#     )\n",
    "#     model.compile(\n",
    "#         loss=\"sparse_categorical_crossentropy\",\n",
    "#         optimizer=\"adam\",\n",
    "#         metrics=[\n",
    "#             \"accuracy\",\n",
    "#             *[metrics.PrecisionForClass(x) for x in range(outputs)],\n",
    "#             *[metrics.RecallForClass(x) for x in range(outputs)],\n",
    "#             *[metrics.MccForClass(x) for x in range(outputs)],\n",
    "#             *[metrics.F1ForClass(x) for x in range(outputs)],\n",
    "#         ],\n",
    "#     )\n",
    "#     return model"
   ]
  },
  {
   "cell_type": "code",
   "execution_count": 88,
   "metadata": {},
   "outputs": [],
   "source": [
    "GEN = 6\n",
    "EPOCHS = 10"
   ]
  },
  {
   "cell_type": "code",
   "execution_count": 93,
   "metadata": {},
   "outputs": [
    {
     "data": {
      "text/plain": [
       "PosixPath('/home/parafoxia/Programs/Projects/decks/data/checkpoints/2006-0100-0512/cp-0010.ckpt')"
      ]
     },
     "execution_count": 93,
     "metadata": {},
     "output_type": "execute_result"
    }
   ],
   "source": [
    "from decks import DATA_DIR\n",
    "\n",
    "net = build_net(ds)\n",
    "# weights = tf.train.latest_checkpoint(DATA_DIR / \"checkpoints/2001-0100-0512\")\n",
    "weights = DATA_DIR / f\"checkpoints/200{GEN}-0100-0512/cp-{EPOCHS:>04}.ckpt\"\n",
    "net.load_weights(weights)\n",
    "weights"
   ]
  },
  {
   "cell_type": "code",
   "execution_count": 97,
   "metadata": {},
   "outputs": [
    {
     "name": "stdout",
     "output_type": "stream",
     "text": [
      "1283/1283 [==============================] - 9s 7ms/step\n"
     ]
    }
   ],
   "source": [
    "y_true = df[\"emotions\"].values\n",
    "y_score = net.predict(df[\"text\"].values)\n",
    "y_pred = np.argmax(y_score, axis=1)"
   ]
  },
  {
   "cell_type": "code",
   "execution_count": 98,
   "metadata": {},
   "outputs": [
    {
     "data": {
      "text/plain": [
       "array(['i dont feel resigned to my fate because i know there is no fate so maybe tomorrow i can change it all',\n",
       "       'i am feeling very grouchy since i returned',\n",
       "       'i still feel shaken', ...,\n",
       "       'i are feeling anxious scout paces and frets with us',\n",
       "       'i wear my shades upside down and sings powerpuff songs when im feeling naughty',\n",
       "       'i can think of to describe it right now is that this is probably what gary feels whenever that obnoxious fat kid from our lunch pd opens his mouth'],\n",
       "      dtype=object)"
      ]
     },
     "execution_count": 98,
     "metadata": {},
     "output_type": "execute_result"
    }
   ],
   "source": [
    "df[\"text\"].values"
   ]
  },
  {
   "cell_type": "code",
   "execution_count": 104,
   "metadata": {},
   "outputs": [
    {
     "name": "stdout",
     "output_type": "stream",
     "text": [
      "41055\n"
     ]
    }
   ],
   "source": [
    "print(len(df[\"text\"]))"
   ]
  },
  {
   "cell_type": "code",
   "execution_count": 153,
   "metadata": {},
   "outputs": [
    {
     "name": "stdout",
     "output_type": "stream",
     "text": [
      "['hello there']\n"
     ]
    },
    {
     "name": "stderr",
     "output_type": "stream",
     "text": [
      "2022-09-10 18:47:12.647918: W tensorflow/core/framework/op_kernel.cc:1780] OP_REQUIRES failed at strided_slice_op.cc:105 : INVALID_ARGUMENT: slice index 0 of dimension 0 out of bounds.\n",
      "2022-09-10 18:47:12.648004: W tensorflow/core/framework/op_kernel.cc:1780] OP_REQUIRES failed at strided_slice_op.cc:105 : INVALID_ARGUMENT: slice index 0 of dimension 0 out of bounds.\n"
     ]
    },
    {
     "ename": "InvalidArgumentError",
     "evalue": "Graph execution error:\n\nTried to stack list which only contains uninitialized tensors and has a non-fully-defined element_shape: [?,67]\n\t [[{{node TensorArrayV2Stack/TensorListStack}}]]\n\t [[sequential_10/bidirectional_10/backward_gru_10/PartitionedCall]] [Op:__inference_predict_function_296190]",
     "output_type": "error",
     "traceback": [
      "\u001b[0;31m---------------------------------------------------------------------------\u001b[0m",
      "\u001b[0;31mInvalidArgumentError\u001b[0m                      Traceback (most recent call last)",
      "\u001b[1;32m/home/parafoxia/Programs/Projects/decks/eval_net_perf.ipynb Cell 11\u001b[0m in \u001b[0;36m<cell line: 4>\u001b[0;34m()\u001b[0m\n\u001b[1;32m      <a href='vscode-notebook-cell://wsl%2Bdebian/home/parafoxia/Programs/Projects/decks/eval_net_perf.ipynb#X22sdnNjb2RlLXJlbW90ZQ%3D%3D?line=1'>2</a>\u001b[0m \u001b[39m# arr = np.array(['mmm'], dtype=object)\u001b[39;00m\n\u001b[1;32m      <a href='vscode-notebook-cell://wsl%2Bdebian/home/parafoxia/Programs/Projects/decks/eval_net_perf.ipynb#X22sdnNjb2RlLXJlbW90ZQ%3D%3D?line=2'>3</a>\u001b[0m \u001b[39mprint\u001b[39m(arr)\n\u001b[0;32m----> <a href='vscode-notebook-cell://wsl%2Bdebian/home/parafoxia/Programs/Projects/decks/eval_net_perf.ipynb#X22sdnNjb2RlLXJlbW90ZQ%3D%3D?line=3'>4</a>\u001b[0m net\u001b[39m.\u001b[39;49mpredict(arr)\n",
      "File \u001b[0;32m~/Programs/Projects/decks/.venv/lib/python3.10/site-packages/keras/utils/traceback_utils.py:70\u001b[0m, in \u001b[0;36mfilter_traceback.<locals>.error_handler\u001b[0;34m(*args, **kwargs)\u001b[0m\n\u001b[1;32m     67\u001b[0m     filtered_tb \u001b[39m=\u001b[39m _process_traceback_frames(e\u001b[39m.\u001b[39m__traceback__)\n\u001b[1;32m     68\u001b[0m     \u001b[39m# To get the full stack trace, call:\u001b[39;00m\n\u001b[1;32m     69\u001b[0m     \u001b[39m# `tf.debugging.disable_traceback_filtering()`\u001b[39;00m\n\u001b[0;32m---> 70\u001b[0m     \u001b[39mraise\u001b[39;00m e\u001b[39m.\u001b[39mwith_traceback(filtered_tb) \u001b[39mfrom\u001b[39;00m \u001b[39mNone\u001b[39m\n\u001b[1;32m     71\u001b[0m \u001b[39mfinally\u001b[39;00m:\n\u001b[1;32m     72\u001b[0m     \u001b[39mdel\u001b[39;00m filtered_tb\n",
      "File \u001b[0;32m~/Programs/Projects/decks/.venv/lib/python3.10/site-packages/tensorflow/python/eager/execute.py:54\u001b[0m, in \u001b[0;36mquick_execute\u001b[0;34m(op_name, num_outputs, inputs, attrs, ctx, name)\u001b[0m\n\u001b[1;32m     52\u001b[0m \u001b[39mtry\u001b[39;00m:\n\u001b[1;32m     53\u001b[0m   ctx\u001b[39m.\u001b[39mensure_initialized()\n\u001b[0;32m---> 54\u001b[0m   tensors \u001b[39m=\u001b[39m pywrap_tfe\u001b[39m.\u001b[39mTFE_Py_Execute(ctx\u001b[39m.\u001b[39m_handle, device_name, op_name,\n\u001b[1;32m     55\u001b[0m                                       inputs, attrs, num_outputs)\n\u001b[1;32m     56\u001b[0m \u001b[39mexcept\u001b[39;00m core\u001b[39m.\u001b[39m_NotOkStatusException \u001b[39mas\u001b[39;00m e:\n\u001b[1;32m     57\u001b[0m   \u001b[39mif\u001b[39;00m name \u001b[39mis\u001b[39;00m \u001b[39mnot\u001b[39;00m \u001b[39mNone\u001b[39;00m:\n",
      "\u001b[0;31mInvalidArgumentError\u001b[0m: Graph execution error:\n\nTried to stack list which only contains uninitialized tensors and has a non-fully-defined element_shape: [?,67]\n\t [[{{node TensorArrayV2Stack/TensorListStack}}]]\n\t [[sequential_10/bidirectional_10/backward_gru_10/PartitionedCall]] [Op:__inference_predict_function_296190]"
     ]
    }
   ],
   "source": [
    "arr = np.array([\"hello there mate\"], dtype=object)\n",
    "# arr = np.array(['mmm'], dtype=object)\n",
    "print(arr)\n",
    "net.predict(arr)"
   ]
  },
  {
   "cell_type": "code",
   "execution_count": 82,
   "metadata": {},
   "outputs": [
    {
     "name": "stdout",
     "output_type": "stream",
     "text": [
      "  ACC: 0.895\n",
      "maPRE: 0.900\n",
      "maREC: 0.901\n",
      "maMCC: 0.880\n"
     ]
    }
   ],
   "source": [
    "acc = (np.count_nonzero(y_true == y_pred) / len(y_true)) * 100\n",
    "\n",
    "tp, tn, fp, fn = 0, 0, 0, 0\n",
    "pre, rec, mcc = [], [], []\n",
    "\n",
    "for i in range(6):\n",
    "    tp += np.count_nonzero((y_pred == i) & (y_true == i))\n",
    "    tn += np.count_nonzero((y_pred != i) & (y_true != i))\n",
    "    fp += np.count_nonzero((y_pred == i) & (y_true != i))\n",
    "    fn += np.count_nonzero((y_pred != i) & (y_true == i))\n",
    "\n",
    "    pre.append(tp / (tp + fp))\n",
    "    rec.append(tp / (tp + fn))\n",
    "    mcc.append((tp*tn - fp*fn) / (((tp+fn) * (tp+fp) * (tn+fp) * (tn+fn)) ** 0.5))\n",
    "\n",
    "print(f\"  ACC: {acc / 100:.3f}\")\n",
    "print(f\"maPRE: {sum(pre) / len(pre):.3f}\")\n",
    "print(f\"maREC: {sum(rec) / len(rec):.3f}\")\n",
    "print(f\"maMCC: {sum(mcc) / len(mcc):.3f}\")"
   ]
  },
  {
   "cell_type": "code",
   "execution_count": 83,
   "metadata": {},
   "outputs": [
    {
     "data": {
      "text/plain": [
       "array([0.268, 0.164, 0.291, 0.097, 0.148, 0.032], dtype=float32)"
      ]
     },
     "execution_count": 83,
     "metadata": {},
     "output_type": "execute_result"
    }
   ],
   "source": [
    "np.round(y_score[np.where(np.max(y_score, axis=1) == np.min(np.max(y_score, axis=1)))[0][0]], 3)"
   ]
  },
  {
   "cell_type": "code",
   "execution_count": 84,
   "metadata": {},
   "outputs": [],
   "source": [
    "from sklearn import metrics as skmetrics\n",
    "from sklearn.preprocessing import normalize\n",
    "\n",
    "data = skmetrics.confusion_matrix(y_true, y_pred)\n",
    "data = normalize(data, axis=1, norm=\"l1\") * 100"
   ]
  },
  {
   "cell_type": "code",
   "execution_count": 85,
   "metadata": {},
   "outputs": [
    {
     "data": {
      "text/plain": [
       "Text(95.72222222222221, 0.5, 'True label')"
      ]
     },
     "execution_count": 85,
     "metadata": {},
     "output_type": "execute_result"
    },
    {
     "data": {
      "image/png": "[encoded data removed]",
      "text/plain": [
       "<Figure size 1000x1000 with 2 Axes>"
      ]
     },
     "metadata": {},
     "output_type": "display_data"
    }
   ],
   "source": [
    "fig = plt.figure(figsize=(10, 10))\n",
    "ax = sns.heatmap(data=data, annot=True, fmt=\".2f\")\n",
    "ax.set_title(f\"Normalised confusion matrix: C{GEN} @ {EPOCHS} epochs\")\n",
    "ax.set_xlabel(\"Predicted label\")\n",
    "ax.set_ylabel(\"True label\")"
   ]
  },
  {
   "cell_type": "code",
   "execution_count": 86,
   "metadata": {},
   "outputs": [
    {
     "name": "stdout",
     "output_type": "stream",
     "text": [
      "WARNING:tensorflow:Detecting that an object or model or tf.train.Checkpoint is being deleted with unrestored values. See the following logs for the specific values in question. To silence these warnings, use `status.expect_partial()`. See https://www.tensorflow.org/api_docs/python/tf/train/Checkpoint#restorefor details about the status object returned by the restore function.\n",
      "WARNING:tensorflow:Value in checkpoint could not be found in the restored object: (root).optimizer.iter\n",
      "WARNING:tensorflow:Value in checkpoint could not be found in the restored object: (root).optimizer.beta_1\n",
      "WARNING:tensorflow:Value in checkpoint could not be found in the restored object: (root).optimizer.beta_2\n",
      "WARNING:tensorflow:Value in checkpoint could not be found in the restored object: (root).optimizer.decay\n",
      "WARNING:tensorflow:Value in checkpoint could not be found in the restored object: (root).optimizer.learning_rate\n",
      "WARNING:tensorflow:Detecting that an object or model or tf.train.Checkpoint is being deleted with unrestored values. See the following logs for the specific values in question. To silence these warnings, use `status.expect_partial()`. See https://www.tensorflow.org/api_docs/python/tf/train/Checkpoint#restorefor details about the status object returned by the restore function.\n",
      "WARNING:tensorflow:Value in checkpoint could not be found in the restored object: (root).optimizer.iter\n",
      "WARNING:tensorflow:Value in checkpoint could not be found in the restored object: (root).optimizer.beta_1\n",
      "WARNING:tensorflow:Value in checkpoint could not be found in the restored object: (root).optimizer.beta_2\n",
      "WARNING:tensorflow:Value in checkpoint could not be found in the restored object: (root).optimizer.decay\n",
      "WARNING:tensorflow:Value in checkpoint could not be found in the restored object: (root).optimizer.learning_rate\n",
      "1/1 [==============================] - 3s 3s/step\n"
     ]
    },
    {
     "data": {
      "text/plain": [
       "array([[0.268, 0.164, 0.291, 0.097, 0.148, 0.032],\n",
       "       [0.597, 0.116, 0.154, 0.024, 0.108, 0.001],\n",
       "       [0.176, 0.111, 0.582, 0.03 , 0.101, 0.001],\n",
       "       [0.009, 0.077, 0.495, 0.061, 0.073, 0.286],\n",
       "       [0.242, 0.004, 0.   , 0.   , 0.753, 0.   ],\n",
       "       [0.204, 0.228, 0.181, 0.034, 0.332, 0.021]], dtype=float32)"
      ]
     },
     "execution_count": 86,
     "metadata": {},
     "output_type": "execute_result"
    }
   ],
   "source": [
    "samples = (\n",
    "    \"I can't believe you just that!\",\n",
    "    \"What was that noise?\",\n",
    "    \"I can't contain my excitement!\",\n",
    "    \"This is amazing!\",\n",
    "    \"Everything just fucking sucks.\",\n",
    "    \"Oh my god, you did that for me?\",\n",
    ")\n",
    "arr = net.predict(np.array(samples))\n",
    "np.round(arr, 3)"
   ]
  }
 ],
 "metadata": {
  "kernelspec": {
   "display_name": "Python 3.10.5 ('.venv': venv)",
   "language": "python",
   "name": "python3"
  },
  "language_info": {
   "codemirror_mode": {
    "name": "ipython",
    "version": 3
   },
   "file_extension": ".py",
   "mimetype": "text/x-python",
   "name": "python",
   "nbconvert_exporter": "python",
   "pygments_lexer": "ipython3",
   "version": "3.10.5"
  },
  "orig_nbformat": 4,
  "vscode": {
   "interpreter": {
    "hash": "d8fb390ff4c1a5b6b23065aa4b1e91965c431c9b620d0ba7fce2fe063d009c1f"
   }
  }
 },
 "nbformat": 4,
 "nbformat_minor": 2
}
